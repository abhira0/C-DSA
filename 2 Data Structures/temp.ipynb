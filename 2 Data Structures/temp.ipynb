{
 "cells": [
  {
   "cell_type": "code",
   "execution_count": 3,
   "metadata": {},
   "outputs": [],
   "source": [
    "class LinkedListNode:\n",
    "    def __init__(self, data, next_node=None):\n",
    "        self.data = data\n",
    "        self.next = next_node\n",
    "\n",
    "\n",
    "class LinkedList:\n",
    "    def __init__(self):\n",
    "        self.head = None\n",
    "        self.tail = None\n",
    "\n",
    "    def pushFront(self, data):\n",
    "        node = LinkedListNode(data)\n",
    "        if self.head == None:  # if empty\n",
    "            self.head = node\n",
    "            self.tail = node\n",
    "        else:\n",
    "            node.next = self.head\n",
    "            self.head = node\n",
    "    def popFront(self):\n",
    "        if self.head == None:  # if empty\n",
    "            print(\"EMPTY LIST\")\n",
    "        elif self.head.next==None:\n",
    "            tmp_node = self.head\n",
    "            self.head==None\n",
    "            del(tmp_node)\n",
    "        else:\n",
    "            tmp_node = self.head\n",
    "            self.head = node.next\n",
    "        \n",
    "\n",
    "    def display(self):\n",
    "        tmp_node = self.head\n",
    "        while tmp_node.next:\n",
    "            print(tmp_node.data, end=\" -> \")\n",
    "            tmp_node = tmp_node.next\n",
    "        print(tmp_node.data)\n"
   ]
  },
  {
   "cell_type": "code",
   "execution_count": null,
   "metadata": {},
   "outputs": [],
   "source": []
  }
 ],
 "metadata": {
  "kernelspec": {
   "name": "python392jvsc74a57bd0ac59ebe37160ed0dfa835113d9b8498d9f09ceb179beaac4002f036b9467c963",
   "display_name": "Python 3.9.2 64-bit"
  },
  "language_info": {
   "codemirror_mode": {
    "name": "ipython",
    "version": 3
   },
   "file_extension": ".py",
   "mimetype": "text/x-python",
   "name": "python",
   "nbconvert_exporter": "python",
   "pygments_lexer": "ipython3",
   "version": "3.9.2"
  }
 },
 "nbformat": 4,
 "nbformat_minor": 5
}